{
 "cells": [
  {
   "cell_type": "markdown",
   "id": "8e19cba9",
   "metadata": {},
   "source": [
    "## Homework 5\n",
    "- Harshvardhan\n",
    "- Student Id: 609162"
   ]
  },
  {
   "cell_type": "code",
   "execution_count": 43,
   "id": "a55f5e1b",
   "metadata": {},
   "outputs": [],
   "source": [
    "import numpy as np\n",
    "import matplotlib.pyplot as plt"
   ]
  },
  {
   "cell_type": "code",
   "execution_count": 2,
   "id": "767c200a",
   "metadata": {},
   "outputs": [],
   "source": [
    "def perceptron(X, Y, max_i = 10):\n",
    "    dim = X.shape[1]\n",
    "    w = np.random.uniform(0,1,dim)\n",
    "    b = np.random.uniform(0,1,1)\n",
    "    for i in range(max_i):\n",
    "        mismatch = 0\n",
    "        for j in range(X.shape[0]):\n",
    "            yhat = predict(X[j,:], w, b)\n",
    "            if (yhat != Y[j]):\n",
    "                mismatch = mismatch + 1\n",
    "                w = w + X[j,:]*(Y[j]-yhat)\n",
    "                b = b - (Y[j]- yhat)\n",
    "                print(w, b)\n",
    "            print(f\"Epoch: {i} Iter: {j} Input: {X[j,:]} Y: {Y[j]} Y_hat: {yhat}\")\n",
    "        if(mismatch == 0):\n",
    "            break\n",
    "    return w, b"
   ]
  },
  {
   "cell_type": "code",
   "execution_count": 3,
   "id": "c775fc67",
   "metadata": {},
   "outputs": [],
   "source": [
    "# step function\n",
    "def step(x):\n",
    "    if x>= 0:\n",
    "        return 1\n",
    "    else:\n",
    "        return 0\n",
    "# predict\n",
    "def predict(x, w, b):\n",
    "    u = np.dot(w, x) - b\n",
    "    y = step(u)\n",
    "    return y"
   ]
  },
  {
   "cell_type": "code",
   "execution_count": 25,
   "id": "9efa78e0",
   "metadata": {},
   "outputs": [],
   "source": [
    "# XOR Gate\n",
    "# assuming c = 1\n",
    "rt = np.sqrt(2)\n",
    "\n",
    "X = np.array([[1,1,rt,-rt, -rt, 1],[1,1,-rt,rt,-rt,1],[1,1,-rt,-rt,rt,1],[1,1,rt,rt,rt,1]])\n",
    "Y = np.array([-1,1,1,-1])"
   ]
  },
  {
   "cell_type": "code",
   "execution_count": 26,
   "id": "be25deb0",
   "metadata": {},
   "outputs": [
    {
     "data": {
      "text/plain": [
       "(4, 6)"
      ]
     },
     "execution_count": 26,
     "metadata": {},
     "output_type": "execute_result"
    }
   ],
   "source": [
    "X.shape"
   ]
  },
  {
   "cell_type": "code",
   "execution_count": 27,
   "id": "8457979b",
   "metadata": {},
   "outputs": [
    {
     "name": "stdout",
     "output_type": "stream",
     "text": [
      "[-0.49301347 -0.33775988 -1.24150713  1.93503543  1.91630496 -0.44247904] [1.68158362]\n",
      "Epoch: 0 Iter: 0 Input: [ 1.          1.          1.41421356 -1.41421356 -1.41421356  1.        ] Y: -1 Y_hat: 0\n",
      "[ 0.50698653  0.66224012 -2.6557207   3.34924899  0.5020914   0.55752096] [0.68158362]\n",
      "Epoch: 0 Iter: 1 Input: [ 1.          1.         -1.41421356  1.41421356 -1.41421356  1.        ] Y: 1 Y_hat: 0\n",
      "Epoch: 0 Iter: 2 Input: [ 1.          1.         -1.41421356 -1.41421356  1.41421356  1.        ] Y: 1 Y_hat: 1\n",
      "[-1.49301347 -1.33775988 -5.48414782  0.52082186 -2.32633572 -1.44247904] [2.68158362]\n",
      "Epoch: 0 Iter: 3 Input: [1.         1.         1.41421356 1.41421356 1.41421356 1.        ] Y: -1 Y_hat: 1\n",
      "[-2.49301347 -2.33775988 -6.89836138  1.93503543 -0.91212216 -2.44247904] [3.68158362]\n",
      "Epoch: 1 Iter: 0 Input: [ 1.          1.          1.41421356 -1.41421356 -1.41421356  1.        ] Y: -1 Y_hat: 0\n",
      "Epoch: 1 Iter: 1 Input: [ 1.          1.         -1.41421356  1.41421356 -1.41421356  1.        ] Y: 1 Y_hat: 1\n",
      "[-1.49301347 -1.33775988 -8.31257495  0.52082186  0.5020914  -1.44247904] [2.68158362]\n",
      "Epoch: 1 Iter: 2 Input: [ 1.          1.         -1.41421356 -1.41421356  1.41421356  1.        ] Y: 1 Y_hat: 0\n",
      "[-2.49301347 -2.33775988 -9.72678851 -0.8933917  -0.91212216 -2.44247904] [3.68158362]\n",
      "Epoch: 1 Iter: 3 Input: [1.         1.         1.41421356 1.41421356 1.41421356 1.        ] Y: -1 Y_hat: 0\n",
      "[ -3.49301347  -3.33775988 -11.14100207   0.52082186   0.5020914\n",
      "  -3.44247904] [4.68158362]\n",
      "Epoch: 2 Iter: 0 Input: [ 1.          1.          1.41421356 -1.41421356 -1.41421356  1.        ] Y: -1 Y_hat: 0\n",
      "Epoch: 2 Iter: 1 Input: [ 1.          1.         -1.41421356  1.41421356 -1.41421356  1.        ] Y: 1 Y_hat: 1\n",
      "Epoch: 2 Iter: 2 Input: [ 1.          1.         -1.41421356 -1.41421356  1.41421356  1.        ] Y: 1 Y_hat: 1\n",
      "[ -4.49301347  -4.33775988 -12.55521563  -0.8933917   -0.91212216\n",
      "  -4.44247904] [5.68158362]\n",
      "Epoch: 2 Iter: 3 Input: [1.         1.         1.41421356 1.41421356 1.41421356 1.        ] Y: -1 Y_hat: 0\n",
      "[ -5.49301347  -5.33775988 -13.9694292    0.52082186   0.5020914\n",
      "  -5.44247904] [6.68158362]\n",
      "Epoch: 3 Iter: 0 Input: [ 1.          1.          1.41421356 -1.41421356 -1.41421356  1.        ] Y: -1 Y_hat: 0\n",
      "[ -4.49301347  -4.33775988 -15.38364276   1.93503543  -0.91212216\n",
      "  -4.44247904] [5.68158362]\n",
      "Epoch: 3 Iter: 1 Input: [ 1.          1.         -1.41421356  1.41421356 -1.41421356  1.        ] Y: 1 Y_hat: 0\n",
      "[ -3.49301347  -3.33775988 -16.79785632   0.52082186   0.5020914\n",
      "  -3.44247904] [4.68158362]\n",
      "Epoch: 3 Iter: 2 Input: [ 1.          1.         -1.41421356 -1.41421356  1.41421356  1.        ] Y: 1 Y_hat: 0\n",
      "[ -4.49301347  -4.33775988 -18.21206988  -0.8933917   -0.91212216\n",
      "  -4.44247904] [5.68158362]\n",
      "Epoch: 3 Iter: 3 Input: [1.         1.         1.41421356 1.41421356 1.41421356 1.        ] Y: -1 Y_hat: 0\n",
      "[ -5.49301347  -5.33775988 -19.62628344   0.52082186   0.5020914\n",
      "  -5.44247904] [6.68158362]\n",
      "Epoch: 4 Iter: 0 Input: [ 1.          1.          1.41421356 -1.41421356 -1.41421356  1.        ] Y: -1 Y_hat: 0\n",
      "Epoch: 4 Iter: 1 Input: [ 1.          1.         -1.41421356  1.41421356 -1.41421356  1.        ] Y: 1 Y_hat: 1\n",
      "Epoch: 4 Iter: 2 Input: [ 1.          1.         -1.41421356 -1.41421356  1.41421356  1.        ] Y: 1 Y_hat: 1\n",
      "[ -6.49301347  -6.33775988 -21.04049701  -0.8933917   -0.91212216\n",
      "  -6.44247904] [7.68158362]\n",
      "Epoch: 4 Iter: 3 Input: [1.         1.         1.41421356 1.41421356 1.41421356 1.        ] Y: -1 Y_hat: 0\n",
      "[ -7.49301347  -7.33775988 -22.45471057   0.52082186   0.5020914\n",
      "  -7.44247904] [8.68158362]\n",
      "Epoch: 5 Iter: 0 Input: [ 1.          1.          1.41421356 -1.41421356 -1.41421356  1.        ] Y: -1 Y_hat: 0\n",
      "Epoch: 5 Iter: 1 Input: [ 1.          1.         -1.41421356  1.41421356 -1.41421356  1.        ] Y: 1 Y_hat: 1\n",
      "Epoch: 5 Iter: 2 Input: [ 1.          1.         -1.41421356 -1.41421356  1.41421356  1.        ] Y: 1 Y_hat: 1\n",
      "[ -8.49301347  -8.33775988 -23.86892413  -0.8933917   -0.91212216\n",
      "  -8.44247904] [9.68158362]\n",
      "Epoch: 5 Iter: 3 Input: [1.         1.         1.41421356 1.41421356 1.41421356 1.        ] Y: -1 Y_hat: 0\n",
      "[ -9.49301347  -9.33775988 -25.28313769   0.52082186   0.5020914\n",
      "  -9.44247904] [10.68158362]\n",
      "Epoch: 6 Iter: 0 Input: [ 1.          1.          1.41421356 -1.41421356 -1.41421356  1.        ] Y: -1 Y_hat: 0\n",
      "[ -8.49301347  -8.33775988 -26.69735126   1.93503543  -0.91212216\n",
      "  -8.44247904] [9.68158362]\n",
      "Epoch: 6 Iter: 1 Input: [ 1.          1.         -1.41421356  1.41421356 -1.41421356  1.        ] Y: 1 Y_hat: 0\n",
      "[ -7.49301347  -7.33775988 -28.11156482   0.52082186   0.5020914\n",
      "  -7.44247904] [8.68158362]\n",
      "Epoch: 6 Iter: 2 Input: [ 1.          1.         -1.41421356 -1.41421356  1.41421356  1.        ] Y: 1 Y_hat: 0\n",
      "[ -8.49301347  -8.33775988 -29.52577838  -0.8933917   -0.91212216\n",
      "  -8.44247904] [9.68158362]\n",
      "Epoch: 6 Iter: 3 Input: [1.         1.         1.41421356 1.41421356 1.41421356 1.        ] Y: -1 Y_hat: 0\n",
      "[ -9.49301347  -9.33775988 -30.93999194   0.52082186   0.5020914\n",
      "  -9.44247904] [10.68158362]\n",
      "Epoch: 7 Iter: 0 Input: [ 1.          1.          1.41421356 -1.41421356 -1.41421356  1.        ] Y: -1 Y_hat: 0\n",
      "Epoch: 7 Iter: 1 Input: [ 1.          1.         -1.41421356  1.41421356 -1.41421356  1.        ] Y: 1 Y_hat: 1\n",
      "Epoch: 7 Iter: 2 Input: [ 1.          1.         -1.41421356 -1.41421356  1.41421356  1.        ] Y: 1 Y_hat: 1\n",
      "[-10.49301347 -10.33775988 -32.35420551  -0.8933917   -0.91212216\n",
      " -10.44247904] [11.68158362]\n",
      "Epoch: 7 Iter: 3 Input: [1.         1.         1.41421356 1.41421356 1.41421356 1.        ] Y: -1 Y_hat: 0\n",
      "[-11.49301347 -11.33775988 -33.76841907   0.52082186   0.5020914\n",
      " -11.44247904] [12.68158362]\n",
      "Epoch: 8 Iter: 0 Input: [ 1.          1.          1.41421356 -1.41421356 -1.41421356  1.        ] Y: -1 Y_hat: 0\n",
      "Epoch: 8 Iter: 1 Input: [ 1.          1.         -1.41421356  1.41421356 -1.41421356  1.        ] Y: 1 Y_hat: 1\n",
      "Epoch: 8 Iter: 2 Input: [ 1.          1.         -1.41421356 -1.41421356  1.41421356  1.        ] Y: 1 Y_hat: 1\n",
      "[-12.49301347 -12.33775988 -35.18263263  -0.8933917   -0.91212216\n",
      " -12.44247904] [13.68158362]\n",
      "Epoch: 8 Iter: 3 Input: [1.         1.         1.41421356 1.41421356 1.41421356 1.        ] Y: -1 Y_hat: 0\n",
      "[-13.49301347 -13.33775988 -36.59684619   0.52082186   0.5020914\n",
      " -13.44247904] [14.68158362]\n",
      "Epoch: 9 Iter: 0 Input: [ 1.          1.          1.41421356 -1.41421356 -1.41421356  1.        ] Y: -1 Y_hat: 0\n",
      "[-12.49301347 -12.33775988 -38.01105976   1.93503543  -0.91212216\n",
      " -12.44247904] [13.68158362]\n",
      "Epoch: 9 Iter: 1 Input: [ 1.          1.         -1.41421356  1.41421356 -1.41421356  1.        ] Y: 1 Y_hat: 0\n",
      "[-11.49301347 -11.33775988 -39.42527332   0.52082186   0.5020914\n",
      " -11.44247904] [12.68158362]\n",
      "Epoch: 9 Iter: 2 Input: [ 1.          1.         -1.41421356 -1.41421356  1.41421356  1.        ] Y: 1 Y_hat: 0\n",
      "[-12.49301347 -12.33775988 -40.83948688  -0.8933917   -0.91212216\n",
      " -12.44247904] [13.68158362]\n",
      "Epoch: 9 Iter: 3 Input: [1.         1.         1.41421356 1.41421356 1.41421356 1.        ] Y: -1 Y_hat: 0\n"
     ]
    }
   ],
   "source": [
    "w, b = perceptron(X,Y)"
   ]
  },
  {
   "cell_type": "code",
   "execution_count": 28,
   "id": "bb680923",
   "metadata": {},
   "outputs": [
    {
     "data": {
      "text/plain": [
       "array([-12.49301347, -12.33775988, -40.83948688,  -0.8933917 ,\n",
       "        -0.91212216, -12.44247904])"
      ]
     },
     "execution_count": 28,
     "metadata": {},
     "output_type": "execute_result"
    }
   ],
   "source": [
    "w"
   ]
  },
  {
   "cell_type": "code",
   "execution_count": 29,
   "id": "26b04ffc",
   "metadata": {},
   "outputs": [
    {
     "data": {
      "text/plain": [
       "array([13.68158362])"
      ]
     },
     "execution_count": 29,
     "metadata": {},
     "output_type": "execute_result"
    }
   ],
   "source": [
    "b"
   ]
  },
  {
   "cell_type": "code",
   "execution_count": 34,
   "id": "50f4c9c5",
   "metadata": {},
   "outputs": [],
   "source": [
    "# Plot the decision boundary. For that, we will assign a color to each\n",
    "# point in the mesh [x_min, x_max]x[y_min, y_max].\n",
    "x_min, x_max = -2, 2\n",
    "y_min, y_max = -2, 2\n",
    "xx, yy = np.meshgrid(np.arange(x_min, x_max, 0.1),\n",
    "                     np.arange(y_min, y_max, 0.1))\n",
    "xy_array = np.c_[xx.ravel(), yy.ravel()]"
   ]
  },
  {
   "cell_type": "code",
   "execution_count": 35,
   "id": "fea962fd",
   "metadata": {},
   "outputs": [],
   "source": [
    "# project each point to 6d\n",
    "def project_6d(X, c = 1):\n",
    "    # X has to have two columns\n",
    "    pp = np.zeros((X.shape[0], 6))\n",
    "    \n",
    "    for i in range(X.shape[0]):\n",
    "        xx = X[i]\n",
    "        t1 = (xx[1])**2\n",
    "        t2 = (xx[0])**2\n",
    "        t3 = np.sqrt(2)*xx[0]*xx[1]\n",
    "        t4 = np.sqrt(2*c)*xx[1]\n",
    "        t5 = np.sqrt(2*c)*xx[0]\n",
    "        t6 = c\n",
    "        pp[i,:] = t1, t2, t3, t4, t5, t6\n",
    "\n",
    "    return pp    "
   ]
  },
  {
   "cell_type": "code",
   "execution_count": 40,
   "id": "abe7c03b",
   "metadata": {},
   "outputs": [
    {
     "data": {
      "text/plain": [
       "(1600, 6)"
      ]
     },
     "execution_count": 40,
     "metadata": {},
     "output_type": "execute_result"
    }
   ],
   "source": [
    "xy_projected = project_6d(xy_array)\n",
    "xy_projected.shape"
   ]
  },
  {
   "cell_type": "code",
   "execution_count": 41,
   "id": "78efe3df",
   "metadata": {},
   "outputs": [
    {
     "name": "stdout",
     "output_type": "stream",
     "text": [
      "[0. 0. 0. ... 0. 0. 0.]\n"
     ]
    }
   ],
   "source": [
    "# finding predicted labels for each point\n",
    "yhat = np.ones(xy_projected.shape[0])\n",
    "for i in range(xy_projected.shape[0]):\n",
    "    yhat[i] = predict(xy_projected[i], w, b)\n",
    "\n",
    "print(yhat)"
   ]
  },
  {
   "cell_type": "code",
   "execution_count": 59,
   "id": "e933738c",
   "metadata": {},
   "outputs": [
    {
     "data": {
      "text/plain": [
       "Text(0.5, 1.0, 'Decision Boundary')"
      ]
     },
     "execution_count": 59,
     "metadata": {},
     "output_type": "execute_result"
    },
    {
     "data": {
      "image/png": "[encoded data removed]",
      "text/plain": [
       "<Figure size 432x288 with 1 Axes>"
      ]
     },
     "metadata": {
      "needs_background": "light"
     },
     "output_type": "display_data"
    }
   ],
   "source": [
    "z = yhat.reshape((len(xx), len(yy)))\n",
    "plt.contour(xx, yy, z)\n",
    "plt.plot(-1,-1, \"ro\", c = \"blue\")\n",
    "plt.plot(1,-1, \"ro\")\n",
    "plt.plot(-1,1, \"ro\")\n",
    "plt.plot(1,1, \"ro\", c = \"blue\")\n",
    "plt.title(\"Decision Boundary\")"
   ]
  }
 ],
 "metadata": {
  "kernelspec": {
   "display_name": "Python 3",
   "language": "python",
   "name": "python3"
  },
  "language_info": {
   "codemirror_mode": {
    "name": "ipython",
    "version": 3
   },
   "file_extension": ".py",
   "mimetype": "text/x-python",
   "name": "python",
   "nbconvert_exporter": "python",
   "pygments_lexer": "ipython3",
   "version": "3.8.8"
  }
 },
 "nbformat": 4,
 "nbformat_minor": 5
}
