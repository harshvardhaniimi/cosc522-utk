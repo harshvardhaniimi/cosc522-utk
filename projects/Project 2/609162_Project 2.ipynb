{
 "cells": [
  {
   "cell_type": "markdown",
   "source": [
    "# Project 2\n",
    "## COSC 522\n",
    "Harshvardhan\n",
    "Student Id: 609162"
   ],
   "metadata": {}
  },
  {
   "cell_type": "code",
   "execution_count": 57,
   "source": [
    "import numpy as np\n",
    "import time as t\n",
    "import matplotlib.pyplot as plt"
   ],
   "outputs": [],
   "metadata": {}
  },
  {
   "cell_type": "markdown",
   "source": [
    "## Task 1\n",
    "**Task 1: Implement nonparametric learning using kNN.**\n",
    "- (20 pts) Plot a figure of 1x2 subplots that illustrates the overall classification accuracy vs. k using the synthetic and the pima dataset. Provide your observations based on the figure.\n",
    "- (10 pts) Generate a table similar to Tables 1 & 2 in Project 1 but adding one row reporting the performance of kNN. Use parameters in each learning algorithm that generated the best overall accuracy.\n",
    "- (5 pts) Comment (0.5 ~ 1 page) on the pros and cons between parametric learning and non-parametric learning when applied to datasets with different characteristics.\n",
    "- (15 pts) Using the synthetic dataset, can you draw the decision boundary of kNN with an explicit function like you did for the 3 cases of parametric learning? (use the k with the best overall accuracy) If not, what is a good way to illustrate the decision \"boundary\" on the test set? Overlay it on the same figure as the other three explicit boundaries from parametric learning, that you generated from Project 1."
   ],
   "metadata": {}
  },
  {
   "cell_type": "code",
   "execution_count": 58,
   "source": [
    "# Euclidean distance function for kNN\n",
    "def euclid(x1, x2):\n",
    "    return (np.sqrt(np.dot(x1 - x2, x1 - x2)))"
   ],
   "outputs": [],
   "metadata": {}
  },
  {
   "cell_type": "code",
   "execution_count": 59,
   "source": [
    "def knn_classifier(xtrain, ytrain, xtest, ytest, k):\n",
    "    \n",
    "    t1 = t.time()\n",
    "    \n",
    "    # initialising yhat array\n",
    "    yhat = np.ones(len(ytest))\n",
    "    \n",
    "    for i in range(xtest.shape[0]):\n",
    "        xti = xtest[i]\n",
    "        d1 = np.zeros(xtrain.shape[0])\n",
    "        \n",
    "        # calculating distance between xti and all the other points\n",
    "        for j in range(xtrain.shape[0]):\n",
    "            d1[j] = euclid(xti, xtrain[j])\n",
    "        \n",
    "        # finding index of largest k points\n",
    "        l = d1.argsort()[:k]\n",
    "        \n",
    "        # majority voting\n",
    "        if (np.sum(ytrain[l])>k/2):\n",
    "            yhat[i] = 1\n",
    "        else:\n",
    "            yhat[i] = 0\n",
    "    \n",
    "    \n",
    "    overall_acc = np.sum(yhat == ytest)/len(ytest)\n",
    "    class0_acc = np.sum(yhat[ytest == 0] == 0)/np.sum(ytest == 0)\n",
    "    class1_acc = np.sum(yhat[ytest == 1] == 1)/np.sum(ytest == 1)\n",
    "    \n",
    "    t2 = t.time()\n",
    "    tt = t2-t1\n",
    "    \n",
    "    return yhat, overall_acc, class0_acc, class1_acc, tt"
   ],
   "outputs": [],
   "metadata": {}
  },
  {
   "cell_type": "markdown",
   "source": [
    "## For Pima Dataset"
   ],
   "metadata": {}
  },
  {
   "cell_type": "code",
   "execution_count": 60,
   "source": [
    "# Loading data\n",
    "train = np.loadtxt(\"/Users/harsh/Downloads/pima.tr.txt\",skiprows=1)\n",
    "train_x = train[:,:-1]\n",
    "train_y = train[:,-1].astype(int)\n",
    "\n",
    "# Normalise train_x\n",
    "train_x1 = (train_x - train_x.mean(0))/train_x.std(0) #saving it in a new variable as we still need train_x1 for normalising test_x\n",
    "\n",
    "test_data = np.loadtxt(\"/Users/harsh/Downloads/pima.te.txt\",skiprows=1)\n",
    "test_x = test_data[:,:-1]\n",
    "test_y = test_data[:,-1].astype(int)\n",
    "\n",
    "# normalise test_x\n",
    "test_x = (test_x - train_x.mean(0))/train_x.std(0)\n",
    "\n",
    "#assigning train_x1 to train_x\n",
    "train_x = train_x1\n",
    "\n",
    "print(train_x.shape)"
   ],
   "outputs": [
    {
     "output_type": "stream",
     "name": "stdout",
     "text": [
      "(200, 7)\n"
     ]
    }
   ],
   "metadata": {}
  },
  {
   "cell_type": "code",
   "execution_count": 61,
   "source": [
    "# maximum value of k\n",
    "kmax_p = np.rint(np.sqrt(train_x.shape[0])).astype(int)\n",
    "\n",
    "# initialising acc\n",
    "acc_p = np.ones(kmax_p)\n",
    "\n",
    "# finding classification accuracy\n",
    "for i in range(kmax_p):\n",
    "    acc_p[i] = knn_classifier(train_x, train_y, test_x, test_y, i)[1]\n",
    "    \n",
    "# plotting classification accuracy\n",
    "p1 = plt.plot(range(kmax_p), acc_p)"
   ],
   "outputs": [
    {
     "output_type": "display_data",
     "data": {
      "image/png": "[encoded data removed]",
      "text/plain": [
       "<Figure size 432x288 with 1 Axes>"
      ]
     },
     "metadata": {
      "needs_background": "light"
     }
    }
   ],
   "metadata": {}
  },
  {
   "cell_type": "markdown",
   "source": [
    "For this dataset, the optimal value of k is 6 or 9. I'd go with 9 as that gives me the highest accuracy."
   ],
   "metadata": {}
  },
  {
   "cell_type": "code",
   "execution_count": 63,
   "source": [
    "##### for pima dataset\n",
    "a, b, c, d, e = knn_classifier(train_x, train_y, test_x, test_y, 9)\n",
    "print(\"Overall accuracy: \", b, \"\\nClass-0 Accuracy: \", c, \"\\nClass-1 Accuracy: \", d, \"\\nRuntime: \", e)"
   ],
   "outputs": [
    {
     "output_type": "stream",
     "name": "stdout",
     "text": [
      "Overall accuracy:  0.7650602409638554 \n",
      "Class-0 Accuracy:  0.8923766816143498 \n",
      "Class-1 Accuracy:  0.5045871559633027 \n",
      "Runtime:  0.3472249507904053\n"
     ]
    }
   ],
   "metadata": {}
  },
  {
   "cell_type": "markdown",
   "source": [
    "## For Synthetic Dataset"
   ],
   "metadata": {}
  },
  {
   "cell_type": "code",
   "execution_count": 64,
   "source": [
    "# Loading synthetic dataset\n",
    "train = np.loadtxt(\"/Users/harsh/Downloads/synth.tr.txt\",skiprows=1)\n",
    "train_x = train[:,:-1]\n",
    "train_y = train[:,-1].astype(int)\n",
    "\n",
    "test_data = np.loadtxt(\"/Users/harsh/Downloads/synth.te.txt\",skiprows=1)\n",
    "test_x = test_data[:,:-1]\n",
    "test_y = test_data[:,-1].astype(int)"
   ],
   "outputs": [],
   "metadata": {}
  },
  {
   "cell_type": "code",
   "execution_count": 65,
   "source": [
    "# maximum value of k\n",
    "kmax_s = np.rint(np.sqrt(train_x.shape[0])).astype(int)\n",
    "\n",
    "# initialising acc\n",
    "acc_s = np.ones(kmax_s)\n",
    "\n",
    "# finding classification accuracy\n",
    "for i in range(kmax_s):\n",
    "    acc_s[i] = knn_classifier(train_x, train_y, test_x, test_y, i)[1]\n",
    "    \n",
    "# plotting classification accuracy\n",
    "plt.plot(range(kmax_s), acc_s)"
   ],
   "outputs": [
    {
     "output_type": "execute_result",
     "data": {
      "text/plain": [
       "[<matplotlib.lines.Line2D at 0x7fdfc78e9b20>]"
      ]
     },
     "metadata": {},
     "execution_count": 65
    },
    {
     "output_type": "display_data",
     "data": {
      "image/png": "[encoded data removed]",
      "text/plain": [
       "<Figure size 432x288 with 1 Axes>"
      ]
     },
     "metadata": {
      "needs_background": "light"
     }
    }
   ],
   "metadata": {}
  },
  {
   "cell_type": "markdown",
   "source": [
    "For this dataset, the optimal value of k is 1."
   ],
   "metadata": {}
  },
  {
   "cell_type": "code",
   "execution_count": 66,
   "source": [
    "fig, (ax1, ax2) = plt.subplots(1, 2)\n",
    "fig.suptitle(\"Overall Accuracy vs K\\nPima Dataset and Synthetic Dataset\")\n",
    "ax1.plot(range(kmax_p), acc_p)\n",
    "ax2.plot(range(kmax_s), acc_s)"
   ],
   "outputs": [
    {
     "output_type": "execute_result",
     "data": {
      "text/plain": [
       "[<matplotlib.lines.Line2D at 0x7fdfc7e0a0a0>]"
      ]
     },
     "metadata": {},
     "execution_count": 66
    },
    {
     "output_type": "display_data",
     "data": {
      "image/png": "[encoded data removed]",
      "text/plain": [
       "<Figure size 432x288 with 2 Axes>"
      ]
     },
     "metadata": {
      "needs_background": "light"
     }
    }
   ],
   "metadata": {}
  },
  {
   "cell_type": "code",
   "execution_count": 67,
   "source": [
    "# for synthetic dataset\n",
    "a, b, c, d, e = knn_classifier(train_x, train_y, test_x, test_y, 1)\n",
    "print(\"Overall accuracy: \", b, \"\\nClass-0 Accuracy: \", c, \"\\nClass-1 Accuracy: \", d, \"\\nRuntime: \", e)"
   ],
   "outputs": [
    {
     "output_type": "stream",
     "name": "stdout",
     "text": [
      "Overall accuracy:  0.85 \n",
      "Class-0 Accuracy:  0.862 \n",
      "Class-1 Accuracy:  0.838 \n",
      "Runtime:  1.7864928245544434\n"
     ]
    }
   ],
   "metadata": {}
  },
  {
   "cell_type": "markdown",
   "source": [
    "## Summary Results\n",
    "\n",
    "### Results Table\n",
    "\n",
    "|   Synthetic Dataset  | Euclidean Classifier | Mahalanobis Classifier | Quadratic Classifier | kNN Classifier |\n",
    "|:--------------------:|----------------------|------------------------|----------------------|----------------|\n",
    "|   Overall Accuracy   | 0.713                | 0.892                  | 0.898                | 0.85           |\n",
    "|   Class-0 Accuracy   | 0.68                 | 0.9                    | 0.908                | 0.862          |\n",
    "|   Class-1 Accuracy   | 0.746                | 0.884                  | 0.888                | 0.838          |\n",
    "| Runtime (in seconds) | 0.0241               | 0.0582                 | 0.0673               | 1.708          |\n",
    "\n",
    "|     Pima Dataset     | Euclidean Classifier | Mahalanobis Classifier | Quadratic Classifier | kNN Classifier |\n",
    "|:--------------------:|----------------------|------------------------|----------------------|----------------|\n",
    "|   Overall Accuracy   | 0.741                | 0.768                  | 0.741                | 0.765          |\n",
    "|   Class-0 Accuracy   | 0.758                | 0.789                  | 0.803                | 0.893          |\n",
    "|   Class-1 Accuracy   | 0.706                | 0.724                  | 0.615                | 0.504          |\n",
    "| Runtime (in seconds) | 0.00967              | 0.0197                 | 0.0429               | 0.360          |"
   ],
   "metadata": {}
  },
  {
   "cell_type": "markdown",
   "source": [
    "## Pros and Cons of Parametric and Non-parametric Learning\n",
    "**Easy:** The benefit of parametric learning methods is that these methods are simpler to implement. Once we have the data, the methods can easily be used to determine the learning algorithm. Au contraire, parametric methods like kNN are not that easy to implement. Even with the data, we have to iterate through multiple times to decide the number of k which is tedious.\n",
    "\n",
    "**Speed:** Parametric learning methods are also very quick to learn from the data which is evident from their runtimes. Non-parametric methods like kNN takes a long time, evidently thrice the time for the synthetic dataset and seven times for Pima dataset.\n",
    "\n",
    "**Accuracy:** There is no gurantee that non-parametric methods will perform better than parametric methods. Even when we have to accurately decide the mean and covariance matrices for learning, parametric methods (especially Mahalanobis classifier) performs much better as it has higher accuracy and faster runtime.\n",
    "\n",
    "**Optimal Solution:** It can be proven using statistical learning methods that the local or sample optimal solution obtained from parametric methods is closer to the population optimal solution. However, for non-parametric learning the points are usually very far. Further, it can be proven that kNN gives suboptimal solutions."
   ],
   "metadata": {}
  },
  {
   "cell_type": "code",
   "execution_count": 68,
   "source": [
    "# plotting decision boundaries\n",
    "x1 = np.linspace(-1.5, 1.5, len(test_y))\n",
    "x2 = np.linspace(-0.5, 1, len(test_y))\n",
    "print(x1.shape, x2.shape)\n",
    "x1, x2 = np.meshgrid(x1, x2)\n",
    "Z = knn_classifier(train_x, train_y, test_x, test_y, 6)[0]\n",
    "Zt = Z.reshape(x1.shape)\n",
    "plt.tripcolor(x1, x2, Z)\n",
    "#plt.scatter(test_x[:, 0], test_x[:, 0], c = test_y)"
   ],
   "outputs": [
    {
     "output_type": "stream",
     "name": "stdout",
     "text": [
      "(1000,) (1000,)\n"
     ]
    },
    {
     "output_type": "error",
     "ename": "ValueError",
     "evalue": "cannot reshape array of size 1000 into shape (1000,1000)",
     "traceback": [
      "\u001b[0;31m---------------------------------------------------------------------------\u001b[0m",
      "\u001b[0;31mValueError\u001b[0m                                Traceback (most recent call last)",
      "\u001b[0;32m<ipython-input-68-c4474008ce3a>\u001b[0m in \u001b[0;36m<module>\u001b[0;34m\u001b[0m\n\u001b[1;32m      5\u001b[0m \u001b[0mx1\u001b[0m\u001b[0;34m,\u001b[0m \u001b[0mx2\u001b[0m \u001b[0;34m=\u001b[0m \u001b[0mnp\u001b[0m\u001b[0;34m.\u001b[0m\u001b[0mmeshgrid\u001b[0m\u001b[0;34m(\u001b[0m\u001b[0mx1\u001b[0m\u001b[0;34m,\u001b[0m \u001b[0mx2\u001b[0m\u001b[0;34m)\u001b[0m\u001b[0;34m\u001b[0m\u001b[0;34m\u001b[0m\u001b[0m\n\u001b[1;32m      6\u001b[0m \u001b[0mZ\u001b[0m \u001b[0;34m=\u001b[0m \u001b[0mknn_classifier\u001b[0m\u001b[0;34m(\u001b[0m\u001b[0mtrain_x\u001b[0m\u001b[0;34m,\u001b[0m \u001b[0mtrain_y\u001b[0m\u001b[0;34m,\u001b[0m \u001b[0mtest_x\u001b[0m\u001b[0;34m,\u001b[0m \u001b[0mtest_y\u001b[0m\u001b[0;34m,\u001b[0m \u001b[0;36m6\u001b[0m\u001b[0;34m)\u001b[0m\u001b[0;34m[\u001b[0m\u001b[0;36m0\u001b[0m\u001b[0;34m]\u001b[0m\u001b[0;34m\u001b[0m\u001b[0;34m\u001b[0m\u001b[0m\n\u001b[0;32m----> 7\u001b[0;31m \u001b[0mZt\u001b[0m \u001b[0;34m=\u001b[0m \u001b[0mZ\u001b[0m\u001b[0;34m.\u001b[0m\u001b[0mreshape\u001b[0m\u001b[0;34m(\u001b[0m\u001b[0mx1\u001b[0m\u001b[0;34m.\u001b[0m\u001b[0mshape\u001b[0m\u001b[0;34m)\u001b[0m\u001b[0;34m\u001b[0m\u001b[0;34m\u001b[0m\u001b[0m\n\u001b[0m\u001b[1;32m      8\u001b[0m \u001b[0mplt\u001b[0m\u001b[0;34m.\u001b[0m\u001b[0mtripcolor\u001b[0m\u001b[0;34m(\u001b[0m\u001b[0mx1\u001b[0m\u001b[0;34m,\u001b[0m \u001b[0mx2\u001b[0m\u001b[0;34m,\u001b[0m \u001b[0mZ\u001b[0m\u001b[0;34m)\u001b[0m\u001b[0;34m\u001b[0m\u001b[0;34m\u001b[0m\u001b[0m\n\u001b[1;32m      9\u001b[0m \u001b[0;31m#plt.scatter(test_x[:, 0], test_x[:, 0], c = test_y)\u001b[0m\u001b[0;34m\u001b[0m\u001b[0;34m\u001b[0m\u001b[0;34m\u001b[0m\u001b[0m\n",
      "\u001b[0;31mValueError\u001b[0m: cannot reshape array of size 1000 into shape (1000,1000)"
     ]
    }
   ],
   "metadata": {}
  },
  {
   "cell_type": "code",
   "execution_count": 69,
   "source": [
    "x1 = np.linspace(-1.5, 1.5, len(test_y))\n",
    "x2 = np.linspace(-0.5, 1, len(test_y))\n",
    "Z = knn_classifier(train_x, train_y, test_x, test_y, 6)[0]"
   ],
   "outputs": [],
   "metadata": {}
  },
  {
   "cell_type": "code",
   "execution_count": 70,
   "source": [
    "plt.scatter(x1, x2)"
   ],
   "outputs": [
    {
     "output_type": "execute_result",
     "data": {
      "text/plain": [
       "<matplotlib.collections.PathCollection at 0x7fdfc7b64790>"
      ]
     },
     "metadata": {},
     "execution_count": 70
    },
    {
     "output_type": "display_data",
     "data": {
      "image/png": "[encoded data removed]",
      "text/plain": [
       "<Figure size 432x288 with 1 Axes>"
      ]
     },
     "metadata": {
      "needs_background": "light"
     }
    }
   ],
   "metadata": {}
  },
  {
   "cell_type": "code",
   "execution_count": 71,
   "source": [
    "fig = plt.figure()\n",
    "ax = plt.axes(projection='3d')\n",
    "\n",
    "ax.scatter3D(x1, x2, Z, c=Z, cmap='Reds')"
   ],
   "outputs": [
    {
     "output_type": "execute_result",
     "data": {
      "text/plain": [
       "<mpl_toolkits.mplot3d.art3d.Path3DCollection at 0x7fdfc7becf10>"
      ]
     },
     "metadata": {},
     "execution_count": 71
    },
    {
     "output_type": "display_data",
     "data": {
      "image/png": "[encoded data removed]",
      "text/plain": [
       "<Figure size 432x288 with 1 Axes>"
      ]
     },
     "metadata": {
      "needs_background": "light"
     }
    }
   ],
   "metadata": {}
  },
  {
   "cell_type": "markdown",
   "source": [
    "# Task 2\n",
    "Task 2: Implement unsupervised clustering approaches (kmeans and wta) for classification purpose.Using the pima dataset. For fair comparison, make sure you use the statistics derived from the training set to normalize the test set, like you did in Project 1. That is, the clustering approaches need to use the normalized testset. Assume the number of clusters is 2. Also assume the prior probability ratio is 1:3 wherever needed.\n",
    "\n",
    "- (30 pts) Implement the two clustering approaches and plot a figure of \"percentage of samples changing membership\" vs. \"epoch\" for both kmeans and wta. That is, the figure should contain two profiles, one for kmeans and one for wta.\n",
    "- (5 pts) Comment on the different behaviors of kmeans and wta.\n",
    "- (10 pts) Present another table by modifying the table you generated in Task 1 by adding two more rows from kmeans and wta and one column with \"number of iterations to converge\".\n",
    "- (5 pts) Comment on the different performance between using supervised approaches and unsupervised approaches for classification purpose."
   ],
   "metadata": {}
  },
  {
   "cell_type": "code",
   "execution_count": 72,
   "source": [
    "# Loading data\n",
    "train = np.loadtxt(\"/Users/harsh/Downloads/pima.tr.txt\",skiprows=1)\n",
    "train_x = train[:,:-1]\n",
    "train_y = train[:,-1].astype(int)\n",
    "\n",
    "# Normalise train_x\n",
    "train_x1 = (train_x - train_x.mean(0))/train_x.std(0) #saving it in a new variable as we still need train_x1 for normalising test_x\n",
    "\n",
    "test_data = np.loadtxt(\"/Users/harsh/Downloads/pima.te.txt\",skiprows=1)\n",
    "test_x = test_data[:,:-1]\n",
    "test_y = test_data[:,-1].astype(int)\n",
    "\n",
    "# normalise test_x\n",
    "test_x = (test_x - train_x.mean(0))/train_x.std(0)\n",
    "\n",
    "#assigning train_x1 to train_x\n",
    "train_x = train_x1"
   ],
   "outputs": [],
   "metadata": {}
  },
  {
   "cell_type": "code",
   "execution_count": 74,
   "source": [
    "# function to perform k means clustering\n",
    "def kmeans(x, k, imax = 1000):\n",
    "    # setting seed for replicability \n",
    "    np.random.seed(1)\n",
    "    \n",
    "    m = 1\n",
    "    \n",
    "    # randomly assigning each sample to one of the k clusters\n",
    "    clust = np.random.choice(k, x.shape[0])\n",
    "    \n",
    "    mu = np.zeros((k, x.shape[1]))\n",
    "\n",
    "    # finding cluster means\n",
    "    for i in range(k):\n",
    "        mu[i,:] = np.mean(x[np.where(clust == i),:])\n",
    "       \n",
    "    # flag to check if cluster labels have changed\n",
    "    flag = 1\n",
    "    \n",
    "    per_mem_change = []\n",
    "    per_mem_change.append(0)\n",
    "    \n",
    "    while flag == 1:\n",
    "        cl_start = clust.copy()\n",
    "        for j in range(x.shape[0]):\n",
    "            y = np.zeros(k)\n",
    "            for i in range(k):\n",
    "                y[i] = euclid(x[j], mu[i])\n",
    "\n",
    "            clust[j] = np.argmin(y)\n",
    "\n",
    "        per_mem_change.append(1-np.sum(cl_start == clust)/x.shape[0])\n",
    "        \n",
    "        # stop when classification doesn't change anymore\n",
    "        if (cl_start == clust).all():\n",
    "            flag = 0\n",
    "        else:\n",
    "            flag = 1\n",
    "            \n",
    "        # resetting cluster means\n",
    "        for i in range(k):\n",
    "            mu[i,:] = np.mean(x[np.where(clust == i)[0],:])\n",
    "        \n",
    "        m = m+1\n",
    "\n",
    "        if(m == imax):\n",
    "            break\n",
    "    return clust, per_mem_change, m"
   ],
   "outputs": [],
   "metadata": {}
  },
  {
   "cell_type": "code",
   "execution_count": 75,
   "source": [
    "# function to perform k means clustering with wta\n",
    "def wta_kmeans(x, k, lp = 0.01, imax = 1000):\n",
    "    # setting seed for replicability \n",
    "    np.random.seed(1)\n",
    "    \n",
    "    m = 1\n",
    "    \n",
    "    # randomly assigning each sample to one of the k clusters\n",
    "    clust = np.random.choice(k, x.shape[0])\n",
    "    \n",
    "    mu = np.zeros((k, x.shape[1]))\n",
    "\n",
    "    # finding cluster means\n",
    "    for i in range(k):\n",
    "        mu[i,:] = np.mean(x[np.where(clust == i),:])\n",
    "       \n",
    "    # flag to check if cluster labels have changed\n",
    "    flag = 1\n",
    "    \n",
    "    per_mem_change = []\n",
    "    per_mem_change.append(0)\n",
    "    \n",
    "    while flag == 1:\n",
    "        cl_start = clust.copy()\n",
    "        for j in range(x.shape[0]):\n",
    "            y = np.zeros(k)\n",
    "            for i in range(k):\n",
    "                y[i] = euclid(x[j], mu[i])\n",
    "\n",
    "            clust[j] = np.argmin(y)\n",
    "            \n",
    "        per_mem_change.append(1-np.sum(cl_start == clust)/x.shape[0])\n",
    "        \n",
    "        # stop when classification doesn't change anymore\n",
    "        if (cl_start == clust).all():\n",
    "            flag = 0\n",
    "        else:\n",
    "            flag = 1\n",
    "            \n",
    "        # resetting cluster means\n",
    "        for i in range(k):\n",
    "            mu[i] = mu[i] + lp*(x[j] - mu[i])\n",
    "        \n",
    "        m = m+1\n",
    "\n",
    "        if(m == imax):\n",
    "            break\n",
    "    return clust, per_mem_change, m"
   ],
   "outputs": [],
   "metadata": {}
  },
  {
   "cell_type": "code",
   "execution_count": 76,
   "source": [
    "t1 = t.time()\n",
    "pc = kmeans(test_x, 2)\n",
    "print(\"Time taken for k-means:\", t.time() - t1)\n",
    "overall_acc = np.sum(pc[0] == test_y)/len(test_y)\n",
    "class0_acc = np.sum(pc[0][test_y == 0] == 0)/np.sum(test_y == 0)\n",
    "class1_acc = np.sum(pc[0][test_y == 1] == 1)/np.sum(test_y == 1)\n",
    "print(\"Overall Acc: \", overall_acc, \"\\nClass 0 Acc: \", class0_acc, \"\\nClass 1 Acc: \", class1_acc,\n",
    "     \"\\nIterations: \", pc[2])"
   ],
   "outputs": [
    {
     "output_type": "stream",
     "name": "stdout",
     "text": [
      "Time taken for k-means: 0.034008026123046875\n",
      "Overall Acc:  0.27710843373493976 \n",
      "Class 0 Acc:  0.28699551569506726 \n",
      "Class 1 Acc:  0.25688073394495414 \n",
      "Iterations:  6\n"
     ]
    }
   ],
   "metadata": {}
  },
  {
   "cell_type": "code",
   "execution_count": 77,
   "source": [
    "t1 = t.time()\n",
    "pc_wta = wta_kmeans(test_x, 2) #default learning parameter is 0.01\n",
    "print(\"Time taken for WTA k-means:\", t.time() - t1)\n",
    "overall_acc = np.sum(pc_wta[0] == test_y)/len(test_y)\n",
    "class0_acc = np.sum(pc_wta[0][test_y == 0] == 0)/np.sum(test_y == 0)\n",
    "class1_acc = np.sum(pc_wta[0][test_y == 1] == 1)/np.sum(test_y == 1)\n",
    "print(\"Overall Acc: \", overall_acc, \"\\nClass 0 Acc: \", class0_acc, \"\\nClass 1 Acc: \", class1_acc, \n",
    "     \"\\nIterations: \", pc_wta[2])"
   ],
   "outputs": [
    {
     "output_type": "stream",
     "name": "stdout",
     "text": [
      "Time taken for WTA k-means: 0.021689653396606445\n",
      "Overall Acc:  0.2921686746987952 \n",
      "Class 0 Acc:  0.32286995515695066 \n",
      "Class 1 Acc:  0.22935779816513763 \n",
      "Iterations:  3\n"
     ]
    }
   ],
   "metadata": {}
  },
  {
   "cell_type": "code",
   "execution_count": 78,
   "source": [
    "plt.plot(range(1,len(pc[1])+1), pc[1])\n",
    "plt.plot(range(1,len(pc_wta[1])+1), pc_wta[1])\n",
    "\n",
    "#checking difference between the algorithm results\n",
    "(pc[0] == pc_wta[0]).sum()/len((pc[0] == pc_wta[0]))"
   ],
   "outputs": [
    {
     "output_type": "execute_result",
     "data": {
      "text/plain": [
       "0.9668674698795181"
      ]
     },
     "metadata": {},
     "execution_count": 78
    },
    {
     "output_type": "display_data",
     "data": {
      "image/png": "[encoded data removed]",
      "text/plain": [
       "<Figure size 432x288 with 1 Axes>"
      ]
     },
     "metadata": {
      "needs_background": "light"
     }
    }
   ],
   "metadata": {}
  },
  {
   "cell_type": "code",
   "execution_count": 80,
   "source": [
    "fig, (ax1, ax2) = plt.subplots(1, 2)\n",
    "fig.suptitle(\"%age of samples changing membership vs epoch \\nkmeans and kmeans with WTA\")\n",
    "ax1.plot(range(1,len(pc[1])+1), pc[1])\n",
    "ax2.plot(range(1,len(pc_wta[1])+1), pc_wta[1])"
   ],
   "outputs": [
    {
     "output_type": "execute_result",
     "data": {
      "text/plain": [
       "[<matplotlib.lines.Line2D at 0x7fdfc7b249a0>]"
      ]
     },
     "metadata": {},
     "execution_count": 80
    },
    {
     "output_type": "display_data",
     "data": {
      "image/png": "[encoded data removed]",
      "text/plain": [
       "<Figure size 432x288 with 2 Axes>"
      ]
     },
     "metadata": {
      "needs_background": "light"
     }
    }
   ],
   "metadata": {}
  },
  {
   "cell_type": "markdown",
   "source": [
    "### Comment on the different behaviors of kmeans and wta.\n",
    "kmeans clustering takes longer to converge as it waits till the memberships have stopped changing. However, since WTA updates mean or cluster centers in a way that's superior to naive kmeans, it converges faster.\n",
    "\n",
    "It is important to note that both the algorithms give us almost the same results as there is 96% match in the cluster memberships offered by both the algorithms.\n",
    "\n",
    "**Speed:** WTA is much faster than naive k-means.\n",
    "\n",
    "**Data:** There is no direct difference between how much data is required by both algorithms but it looks fair that both algorithms work similarly so should require almost the same number of observations.\n",
    "\n",
    "**Usage:** WTA is probably is the faster algorithm to use as it converges faster."
   ],
   "metadata": {}
  },
  {
   "cell_type": "markdown",
   "source": [
    "### Accuracy for k-means and WTA k-means\n",
    "|       Pima Dataset       | Euclidean Classifier | Mahalanobis Classifier | Quadratic Classifier | kNN Classifier | k-means | WTA k-means |\n",
    "|:------------------------:|----------------------|------------------------|----------------------|----------------|---------|-------------|\n",
    "|     Overall Accuracy     | 0.741                | 0.768                  | 0.741                | 0.765          | 0.277   | 0.292       |\n",
    "|     Class-0 Accuracy     | 0.758                | 0.789                  | 0.803                | 0.893          | 0.286   | 0.323       |\n",
    "|     Class-1 Accuracy     | 0.706                | 0.724                  | 0.615                | 0.504          | 0.256   | 0.229       |\n",
    "|   Runtime (in seconds)   | 0.00967              | 0.0197                 | 0.0429               | 0.360          | 0.0414  | 0.0281      |\n",
    "| # iterations to converge |                      |                        |                      |                | 6       | 3           |"
   ],
   "metadata": {}
  },
  {
   "cell_type": "raw",
   "source": [
    "Our clustering algorithm is really poor. Although it converges very fast but it is not at all a good prediction machine.\n",
    "\n",
    "In general our classification accuracy is much better than our clustering. This implies that we may not have good selection of input variables or they do not have any direct relationship with the response variable. We do not know what the variables were trying to measure so it is difficult to know.\n",
    "\n",
    "However, the high classification accuracy tells us that we our data is powerful enough to get the classification results. Therefore we hav mixed results."
   ],
   "metadata": {}
  }
 ],
 "metadata": {
  "kernelspec": {
   "display_name": "Python 3",
   "language": "python",
   "name": "python3"
  },
  "language_info": {
   "codemirror_mode": {
    "name": "ipython",
    "version": 3
   },
   "file_extension": ".py",
   "mimetype": "text/x-python",
   "name": "python",
   "nbconvert_exporter": "python",
   "pygments_lexer": "ipython3",
   "version": "3.8.8"
  }
 },
 "nbformat": 4,
 "nbformat_minor": 5
}